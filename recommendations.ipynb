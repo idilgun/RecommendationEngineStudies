{
 "cells": [
  {
   "cell_type": "code",
   "execution_count": 10,
   "metadata": {
    "collapsed": true
   },
   "outputs": [],
   "source": [
    "# A dictionary of movie critics and their ratings of a small\n",
    "# set of movies\n",
    "critics={\n",
    "    \n",
    "'Lisa Rose': {'Lady in the Water': 2.5, 'Snakes on a Plane': 3.5,\n",
    " 'Just My Luck': 3.0, 'Superman Returns': 3.5, 'You, Me and Dupree': 2.5,\n",
    " 'The Night Listener': 3.0},\n",
    "\n",
    "'Gene Seymour': {'Lady in the Water': 3.0, 'Snakes on a Plane': 3.5,\n",
    " 'Just My Luck': 1.5, 'Superman Returns': 5.0, 'The Night Listener': 3.0,\n",
    " 'You, Me and Dupree': 3.5},\n",
    "\n",
    "'Michael Phillips': {'Lady in the Water': 2.5, 'Snakes on a Plane': 3.0,\n",
    " 'Superman Returns': 3.5, 'The Night Listener': 4.0},\n",
    "\n",
    "'Claudia Puig': {'Snakes on a Plane': 3.5, 'Just My Luck': 3.0,\n",
    " 'The Night Listener': 4.5, 'Superman Returns': 4.0,\n",
    " 'You, Me and Dupree': 2.5},\n",
    "\n",
    "'Mick LaSalle': {'Lady in the Water': 3.0, 'Snakes on a Plane': 4.0,\n",
    " 'Just My Luck': 2.0, 'Superman Returns': 3.0, 'The Night Listener': 3.0,\n",
    " 'You, Me and Dupree': 2.0},\n",
    "\n",
    "'Jack Matthews': {'Lady in the Water': 3.0, 'Snakes on a Plane': 4.0,\n",
    " 'The Night Listener': 3.0, 'Superman Returns': 5.0, 'You, Me and Dupree': 3.5},\n",
    "\n",
    "'Toby': {'Snakes on a Plane':4.5,'You, Me and Dupree':1.0,'Superman Returns':4.0}}"
   ]
  },
  {
   "cell_type": "code",
   "execution_count": 11,
   "metadata": {
    "collapsed": false
   },
   "outputs": [
    {
     "data": {
      "text/plain": [
       "2.5"
      ]
     },
     "execution_count": 11,
     "metadata": {},
     "output_type": "execute_result"
    }
   ],
   "source": [
    "critics['Lisa Rose']['Lady in the Water']"
   ]
  },
  {
   "cell_type": "code",
   "execution_count": 12,
   "metadata": {
    "collapsed": false
   },
   "outputs": [
    {
     "data": {
      "text/plain": [
       "{'Snakes on a Plane': 4.5, 'Superman Returns': 4.0, 'You, Me and Dupree': 1.0}"
      ]
     },
     "execution_count": 12,
     "metadata": {},
     "output_type": "execute_result"
    }
   ],
   "source": [
    "critics['Toby']['Snakes on a Plane']=4.5\n",
    "critics['Toby']"
   ]
  },
  {
   "cell_type": "markdown",
   "metadata": {},
   "source": [
    "## Euclidean Distance Score"
   ]
  },
  {
   "cell_type": "code",
   "execution_count": 13,
   "metadata": {
    "collapsed": false
   },
   "outputs": [],
   "source": [
    "from math import sqrt\n",
    "# Returns a distance-based similarity score for person1 and person2\n",
    "def sim_distance(prefs,person1,person2):\n",
    "    # Get the list of shared_items\n",
    "    si={}\n",
    "    for item in prefs[person1]:\n",
    "        if item in prefs[person2]:\n",
    "            si[item]=1\n",
    "    # if they have no ratings in common, return 0\n",
    "    if len(si)==0: return 0\n",
    "    # Add up the squares of all the differences\n",
    "    sum_of_squares=sum([pow(prefs[person1][item]-prefs[person2][item],2)\n",
    "    for item in prefs[person1] if item in prefs[person2]])\n",
    "    return 1/(1+sum_of_squares)"
   ]
  },
  {
   "cell_type": "code",
   "execution_count": 14,
   "metadata": {
    "collapsed": false
   },
   "outputs": [
    {
     "data": {
      "text/plain": [
       "0.14814814814814814"
      ]
     },
     "execution_count": 14,
     "metadata": {},
     "output_type": "execute_result"
    }
   ],
   "source": [
    "sim_distance(critics,'Lisa Rose','Gene Seymour')"
   ]
  },
  {
   "cell_type": "code",
   "execution_count": 15,
   "metadata": {
    "collapsed": false
   },
   "outputs": [
    {
     "data": {
      "text/plain": [
       "0.4444444444444444"
      ]
     },
     "execution_count": 15,
     "metadata": {},
     "output_type": "execute_result"
    }
   ],
   "source": [
    "sim_distance(critics, 'Lisa Rose','Michael Phillips')"
   ]
  },
  {
   "cell_type": "code",
   "execution_count": 16,
   "metadata": {
    "collapsed": false
   },
   "outputs": [
    {
     "data": {
      "text/plain": [
       "0.2857142857142857"
      ]
     },
     "execution_count": 16,
     "metadata": {},
     "output_type": "execute_result"
    }
   ],
   "source": [
    "sim_distance(critics, 'Lisa Rose','Claudia Puig')"
   ]
  },
  {
   "cell_type": "code",
   "execution_count": 17,
   "metadata": {
    "collapsed": false
   },
   "outputs": [
    {
     "data": {
      "text/plain": [
       "0.3333333333333333"
      ]
     },
     "execution_count": 17,
     "metadata": {},
     "output_type": "execute_result"
    }
   ],
   "source": [
    "sim_distance(critics, 'Lisa Rose','Mick LaSalle')"
   ]
  },
  {
   "cell_type": "code",
   "execution_count": 18,
   "metadata": {
    "collapsed": false
   },
   "outputs": [
    {
     "data": {
      "text/plain": [
       "0.21052631578947367"
      ]
     },
     "execution_count": 18,
     "metadata": {},
     "output_type": "execute_result"
    }
   ],
   "source": [
    "sim_distance(critics, 'Lisa Rose','Jack Matthews')"
   ]
  },
  {
   "cell_type": "code",
   "execution_count": 19,
   "metadata": {
    "collapsed": false
   },
   "outputs": [
    {
     "data": {
      "text/plain": [
       "0.2222222222222222"
      ]
     },
     "execution_count": 19,
     "metadata": {},
     "output_type": "execute_result"
    }
   ],
   "source": [
    "sim_distance(critics, 'Lisa Rose','Toby')"
   ]
  },
  {
   "cell_type": "markdown",
   "metadata": {},
   "source": [
    "Lisa Rose is most similar to Gene Seymour"
   ]
  },
  {
   "cell_type": "markdown",
   "metadata": {
    "collapsed": true
   },
   "source": [
    "## Pearson Correlation Score"
   ]
  },
  {
   "cell_type": "code",
   "execution_count": 20,
   "metadata": {
    "collapsed": true
   },
   "outputs": [],
   "source": [
    "# Returns the Pearson correlation coefficient for p1 and p2\n",
    "def sim_pearson(prefs,p1,p2):\n",
    "    # Get the list of mutually rated items\n",
    "    si={}\n",
    "    for item in prefs[p1]:\n",
    "        if item in prefs[p2]: si[item]=1\n",
    "            \n",
    "    # Find the number of elements\n",
    "    n=len(si)\n",
    "    \n",
    "    # if they are no ratings in common, return 0\n",
    "    if n==0: return 0\n",
    "    \n",
    "    # Add up all the preferences\n",
    "    sum1=sum([prefs[p1][it] for it in si])\n",
    "    sum2=sum([prefs[p2][it] for it in si])\n",
    "    \n",
    "    # Sum up the squares\n",
    "    sum1Sq=sum([pow(prefs[p1][it],2) for it in si])\n",
    "    sum2Sq=sum([pow(prefs[p2][it],2) for it in si])\n",
    "    \n",
    "    # Sum up the products\n",
    "    pSum=sum([prefs[p1][it]*prefs[p2][it] for it in si])\n",
    "    \n",
    "    # Calculate Pearson score\n",
    "    num=pSum-(sum1*sum2/n)\n",
    "    den=sqrt((sum1Sq-pow(sum1,2)/n)*(sum2Sq-pow(sum2,2)/n))\n",
    "    if den==0: return 0\n",
    "    r=num/den\n",
    "    return r"
   ]
  },
  {
   "cell_type": "code",
   "execution_count": 21,
   "metadata": {
    "collapsed": false
   },
   "outputs": [
    {
     "data": {
      "text/plain": [
       "0.39605901719066977"
      ]
     },
     "execution_count": 21,
     "metadata": {},
     "output_type": "execute_result"
    }
   ],
   "source": [
    "sim_pearson(critics,'Lisa Rose','Gene Seymour')"
   ]
  },
  {
   "cell_type": "code",
   "execution_count": 22,
   "metadata": {
    "collapsed": false
   },
   "outputs": [
    {
     "data": {
      "text/plain": [
       "0.40451991747794525"
      ]
     },
     "execution_count": 22,
     "metadata": {},
     "output_type": "execute_result"
    }
   ],
   "source": [
    "sim_pearson(critics, 'Lisa Rose','Michael Phillips')"
   ]
  },
  {
   "cell_type": "code",
   "execution_count": 23,
   "metadata": {
    "collapsed": false
   },
   "outputs": [
    {
     "data": {
      "text/plain": [
       "0.5669467095138396"
      ]
     },
     "execution_count": 23,
     "metadata": {},
     "output_type": "execute_result"
    }
   ],
   "source": [
    "sim_pearson(critics, 'Lisa Rose','Claudia Puig')"
   ]
  },
  {
   "cell_type": "code",
   "execution_count": 24,
   "metadata": {
    "collapsed": false
   },
   "outputs": [
    {
     "data": {
      "text/plain": [
       "0.5940885257860044"
      ]
     },
     "execution_count": 24,
     "metadata": {},
     "output_type": "execute_result"
    }
   ],
   "source": [
    "sim_pearson(critics, 'Lisa Rose','Mick LaSalle')"
   ]
  },
  {
   "cell_type": "code",
   "execution_count": 25,
   "metadata": {
    "collapsed": false
   },
   "outputs": [
    {
     "data": {
      "text/plain": [
       "0.7470178808339965"
      ]
     },
     "execution_count": 25,
     "metadata": {},
     "output_type": "execute_result"
    }
   ],
   "source": [
    "sim_pearson(critics, 'Lisa Rose','Jack Matthews')"
   ]
  },
  {
   "cell_type": "code",
   "execution_count": 26,
   "metadata": {
    "collapsed": false
   },
   "outputs": [
    {
     "data": {
      "text/plain": [
       "0.9912407071619299"
      ]
     },
     "execution_count": 26,
     "metadata": {},
     "output_type": "execute_result"
    }
   ],
   "source": [
    "sim_pearson(critics, 'Lisa Rose','Toby')"
   ]
  },
  {
   "cell_type": "markdown",
   "metadata": {},
   "source": [
    "## Ranking The Critics"
   ]
  },
  {
   "cell_type": "code",
   "execution_count": 27,
   "metadata": {
    "collapsed": true
   },
   "outputs": [],
   "source": [
    "# Returns the best matches for person from the prefs dictionary.\n",
    "# Number of results and similarity function are optional params.\n",
    "def topMatches(prefs,person,n=5,similarity=sim_pearson):\n",
    "    scores=[(similarity(prefs,person,other),other) for other in prefs if other!=person]\n",
    "    # Sort the list so the highest scores appear at the top\n",
    "    scores.sort( )\n",
    "    scores.reverse( )\n",
    "    return scores[0:n]"
   ]
  },
  {
   "cell_type": "code",
   "execution_count": 28,
   "metadata": {
    "collapsed": false
   },
   "outputs": [
    {
     "data": {
      "text/plain": [
       "[(0.9912407071619299, 'Lisa Rose'),\n",
       " (0.9244734516419049, 'Mick LaSalle'),\n",
       " (0.8934051474415647, 'Claudia Puig')]"
      ]
     },
     "execution_count": 28,
     "metadata": {},
     "output_type": "execute_result"
    }
   ],
   "source": [
    "topMatches(critics,'Toby',n=3)"
   ]
  },
  {
   "cell_type": "code",
   "execution_count": 29,
   "metadata": {
    "collapsed": false
   },
   "outputs": [
    {
     "data": {
      "text/plain": [
       "[(0.3076923076923077, 'Mick LaSalle'),\n",
       " (0.2857142857142857, 'Michael Phillips'),\n",
       " (0.23529411764705882, 'Claudia Puig')]"
      ]
     },
     "execution_count": 29,
     "metadata": {},
     "output_type": "execute_result"
    }
   ],
   "source": [
    "topMatches(critics,'Toby',3,sim_distance)"
   ]
  },
  {
   "cell_type": "markdown",
   "metadata": {},
   "source": [
    "## Making Recommendations"
   ]
  },
  {
   "cell_type": "code",
   "execution_count": 30,
   "metadata": {
    "collapsed": false
   },
   "outputs": [],
   "source": [
    "# Gets recommendations for a person by using a weighted average\n",
    "# of every other user's rankings\n",
    "def getRecommendations(prefs,person,similarity=sim_pearson):\n",
    "    totals={}\n",
    "    simSums={}\n",
    "    for other in prefs:\n",
    "        # don't compare me to myself\n",
    "        if other==person: continue\n",
    "        sim=similarity(prefs,person,other)\n",
    " \n",
    "        # ignore scores of zero or lower\n",
    "        if sim<=0: continue\n",
    "        for item in prefs[other]:\n",
    "            # only score movies I haven't seen yet\n",
    "            if item not in prefs[person] or prefs[person][item]==0:\n",
    " \n",
    "                # Similarity * Score\n",
    "                totals.setdefault(item,0)\n",
    "                totals[item]+=prefs[other][item]*sim\n",
    "    \n",
    "                # Sum of similarities\n",
    "                simSums.setdefault(item,0)\n",
    "                simSums[item]+=sim\n",
    " \n",
    "    # Create the normalized list\n",
    "    rankings=[(total/simSums[item],item) for item,total in totals.items( )]\n",
    " \n",
    "    # Return the sorted list\n",
    "    rankings.sort( )\n",
    "    rankings.reverse( )\n",
    "    return rankings"
   ]
  },
  {
   "cell_type": "code",
   "execution_count": 31,
   "metadata": {
    "collapsed": false
   },
   "outputs": [
    {
     "data": {
      "text/plain": [
       "[(3.3477895267131013, 'The Night Listener'),\n",
       " (2.832549918264162, 'Lady in the Water'),\n",
       " (2.530980703765565, 'Just My Luck')]"
      ]
     },
     "execution_count": 31,
     "metadata": {},
     "output_type": "execute_result"
    }
   ],
   "source": [
    "getRecommendations(critics,'Toby')"
   ]
  },
  {
   "cell_type": "code",
   "execution_count": 32,
   "metadata": {
    "collapsed": false
   },
   "outputs": [
    {
     "data": {
      "text/plain": [
       "[(3.5002478401415877, 'The Night Listener'),\n",
       " (2.7561242939959363, 'Lady in the Water'),\n",
       " (2.461988486074374, 'Just My Luck')]"
      ]
     },
     "execution_count": 32,
     "metadata": {},
     "output_type": "execute_result"
    }
   ],
   "source": [
    "getRecommendations(critics,'Toby', sim_distance)"
   ]
  },
  {
   "cell_type": "markdown",
   "metadata": {},
   "source": [
    "## Matching items instead of users"
   ]
  },
  {
   "cell_type": "code",
   "execution_count": 33,
   "metadata": {
    "collapsed": true
   },
   "outputs": [],
   "source": [
    "def transformPrefs(prefs):\n",
    "    result={}\n",
    "    for person in prefs:\n",
    "        for item in prefs[person]:\n",
    "            result.setdefault(item,{})\n",
    "            # Flip item and person\n",
    "            result[item][person]=prefs[person][item]\n",
    "    return result"
   ]
  },
  {
   "cell_type": "code",
   "execution_count": 34,
   "metadata": {
    "collapsed": false
   },
   "outputs": [
    {
     "data": {
      "text/plain": [
       "[(0.6579516949597695, 'You, Me and Dupree'),\n",
       " (0.4879500364742689, 'Lady in the Water'),\n",
       " (0.11180339887498941, 'Snakes on a Plane'),\n",
       " (-0.1798471947990544, 'The Night Listener'),\n",
       " (-0.42289003161103106, 'Just My Luck')]"
      ]
     },
     "execution_count": 34,
     "metadata": {},
     "output_type": "execute_result"
    }
   ],
   "source": [
    "movies=transformPrefs(critics)\n",
    "topMatches(movies,'Superman Returns')"
   ]
  },
  {
   "cell_type": "code",
   "execution_count": 35,
   "metadata": {
    "collapsed": false
   },
   "outputs": [
    {
     "data": {
      "text/plain": [
       "[(4.0, 'Michael Phillips'), (3.0, 'Jack Matthews')]"
      ]
     },
     "execution_count": 35,
     "metadata": {},
     "output_type": "execute_result"
    }
   ],
   "source": [
    "getRecommendations(movies,'Just My Luck')"
   ]
  },
  {
   "cell_type": "markdown",
   "metadata": {},
   "source": [
    "# using the movie lens data set"
   ]
  },
  {
   "cell_type": "code",
   "execution_count": 42,
   "metadata": {
    "collapsed": true
   },
   "outputs": [],
   "source": [
    "def loadMovieLens(path='ml-100k'):\n",
    "    # Get movie titles\n",
    "    movies={}\n",
    "    for line in open(path+'/u.item', encoding='latin-1'):\n",
    "        (id,title)=line.split('|')[0:2]\n",
    "        movies[id]=title\n",
    "    # Load data\n",
    "    prefs={}\n",
    "    for line in open(path+'/u.data'):\n",
    "        (user,movieid,rating,ts)=line.split('\\t')\n",
    "        prefs.setdefault(user,{})\n",
    "        prefs[user][movies[movieid]]=float(rating)\n",
    "    return prefs"
   ]
  },
  {
   "cell_type": "code",
   "execution_count": 43,
   "metadata": {
    "collapsed": false
   },
   "outputs": [],
   "source": [
    "prefs = loadMovieLens( )"
   ]
  },
  {
   "cell_type": "code",
   "execution_count": 73,
   "metadata": {
    "collapsed": false
   },
   "outputs": [
    {
     "data": {
      "text/plain": [
       "{'101 Dalmatians (1996)': 2.0,\n",
       " '12 Angry Men (1957)': 5.0,\n",
       " '20,000 Leagues Under the Sea (1954)': 3.0,\n",
       " '2001: A Space Odyssey (1968)': 4.0,\n",
       " 'Abyss, The (1989)': 3.0,\n",
       " 'Ace Ventura: Pet Detective (1994)': 3.0,\n",
       " 'Air Bud (1997)': 1.0,\n",
       " 'Akira (1988)': 4.0,\n",
       " 'Aladdin (1992)': 4.0,\n",
       " 'Alien (1979)': 5.0,\n",
       " 'Aliens (1986)': 5.0,\n",
       " 'All Dogs Go to Heaven 2 (1996)': 1.0,\n",
       " 'Amadeus (1984)': 5.0,\n",
       " 'Angels and Insects (1995)': 4.0,\n",
       " \"Antonia's Line (1995)\": 5.0,\n",
       " 'Apocalypse Now (1979)': 3.0,\n",
       " 'Apollo 13 (1995)': 4.0,\n",
       " 'Aristocats, The (1970)': 2.0,\n",
       " 'Army of Darkness (1993)': 4.0,\n",
       " 'Austin Powers: International Man of Mystery (1997)': 4.0,\n",
       " 'Babe (1995)': 1.0,\n",
       " 'Back to the Future (1985)': 5.0,\n",
       " 'Bad Boys (1995)': 2.0,\n",
       " 'Basic Instinct (1992)': 3.0,\n",
       " 'Batman & Robin (1997)': 1.0,\n",
       " 'Batman Forever (1995)': 1.0,\n",
       " 'Batman Returns (1992)': 1.0,\n",
       " 'Beavis and Butt-head Do America (1996)': 3.0,\n",
       " 'Bedknobs and Broomsticks (1971)': 2.0,\n",
       " 'Belle de jour (1967)': 3.0,\n",
       " 'Big Night (1996)': 5.0,\n",
       " 'Billy Madison (1995)': 2.0,\n",
       " 'Birdcage, The (1996)': 4.0,\n",
       " 'Blade Runner (1982)': 5.0,\n",
       " 'Blues Brothers, The (1980)': 4.0,\n",
       " 'Bound (1996)': 5.0,\n",
       " \"Bram Stoker's Dracula (1992)\": 3.0,\n",
       " 'Braveheart (1995)': 4.0,\n",
       " 'Brazil (1985)': 5.0,\n",
       " \"Breakfast at Tiffany's (1961)\": 1.0,\n",
       " 'Breaking the Waves (1996)': 5.0,\n",
       " 'Bridge on the River Kwai, The (1957)': 4.0,\n",
       " 'Brother Minister: The Assassination of Malcolm X (1994)': 4.0,\n",
       " 'Brothers McMullen, The (1995)': 3.0,\n",
       " 'Cable Guy, The (1996)': 3.0,\n",
       " 'Cape Fear (1991)': 3.0,\n",
       " \"Carlito's Way (1993)\": 4.0,\n",
       " 'Chasing Amy (1997)': 5.0,\n",
       " 'Cinema Paradiso (1988)': 5.0,\n",
       " 'Citizen Kane (1941)': 4.0,\n",
       " 'Citizen Ruth (1996)': 4.0,\n",
       " 'Clerks (1994)': 5.0,\n",
       " 'Clockwork Orange, A (1971)': 3.0,\n",
       " 'Cold Comfort Farm (1995)': 3.0,\n",
       " 'Contact (1997)': 5.0,\n",
       " 'Copycat (1995)': 3.0,\n",
       " 'Crimson Tide (1995)': 3.0,\n",
       " 'Crow, The (1994)': 4.0,\n",
       " 'Crumb (1994)': 5.0,\n",
       " 'Cyrano de Bergerac (1990)': 5.0,\n",
       " 'D3: The Mighty Ducks (1996)': 1.0,\n",
       " 'Dances with Wolves (1990)': 3.0,\n",
       " 'Dead Man Walking (1995)': 5.0,\n",
       " 'Dead Poets Society (1989)': 5.0,\n",
       " 'Delicatessen (1991)': 5.0,\n",
       " 'Desperado (1995)': 4.0,\n",
       " \"Devil's Own, The (1997)\": 2.0,\n",
       " 'Diabolique (1996)': 4.0,\n",
       " 'Die Hard (1988)': 4.0,\n",
       " 'Die Hard 2 (1990)': 3.0,\n",
       " 'Dirty Dancing (1987)': 2.0,\n",
       " 'Disclosure (1994)': 4.0,\n",
       " 'Dolores Claiborne (1994)': 5.0,\n",
       " 'Doom Generation, The (1995)': 2.0,\n",
       " 'Eat Drink Man Woman (1994)': 5.0,\n",
       " 'Ed Wood (1994)': 4.0,\n",
       " 'Empire Strikes Back, The (1980)': 5.0,\n",
       " 'Event Horizon (1997)': 1.0,\n",
       " 'Evil Dead II (1987)': 3.0,\n",
       " 'Exotica (1994)': 4.0,\n",
       " 'Fargo (1996)': 5.0,\n",
       " 'Faster Pussycat! Kill! Kill! (1965)': 1.0,\n",
       " 'Field of Dreams (1989)': 3.0,\n",
       " 'Fifth Element, The (1997)': 4.0,\n",
       " 'Firm, The (1993)': 4.0,\n",
       " 'Fish Called Wanda, A (1988)': 3.0,\n",
       " 'Flipper (1996)': 1.0,\n",
       " 'Forrest Gump (1994)': 3.0,\n",
       " 'Four Rooms (1995)': 4.0,\n",
       " 'Four Weddings and a Funeral (1994)': 3.0,\n",
       " 'Free Willy (1993)': 1.0,\n",
       " 'Free Willy 2: The Adventure Home (1995)': 1.0,\n",
       " 'French Twist (Gazon maudit) (1995)': 5.0,\n",
       " 'Frighteners, The (1996)': 4.0,\n",
       " 'From Dusk Till Dawn (1996)': 3.0,\n",
       " 'Fugitive, The (1993)': 4.0,\n",
       " 'Full Metal Jacket (1987)': 3.0,\n",
       " 'Full Monty, The (1997)': 5.0,\n",
       " 'Gattaca (1997)': 5.0,\n",
       " 'George of the Jungle (1997)': 1.0,\n",
       " 'Get Shorty (1995)': 3.0,\n",
       " 'Ghost and the Darkness, The (1996)': 2.0,\n",
       " 'Glengarry Glen Ross (1992)': 4.0,\n",
       " 'Godfather, The (1972)': 5.0,\n",
       " 'Godfather: Part II, The (1974)': 4.0,\n",
       " 'GoldenEye (1995)': 3.0,\n",
       " 'Gone with the Wind (1939)': 4.0,\n",
       " 'Good Will Hunting (1997)': 3.0,\n",
       " 'Good, The Bad and The Ugly, The (1966)': 5.0,\n",
       " 'GoodFellas (1990)': 4.0,\n",
       " 'Graduate, The (1967)': 5.0,\n",
       " 'Grand Day Out, A (1992)': 3.0,\n",
       " 'Grosse Pointe Blank (1997)': 4.0,\n",
       " 'Groundhog Day (1993)': 5.0,\n",
       " 'Haunted World of Edward D. Wood Jr., The (1995)': 5.0,\n",
       " 'Heavy Metal (1981)': 2.0,\n",
       " 'Henry V (1989)': 5.0,\n",
       " 'Home Alone (1990)': 2.0,\n",
       " 'Homeward Bound: The Incredible Journey (1993)': 1.0,\n",
       " 'Hoop Dreams (1994)': 5.0,\n",
       " 'Horseman on the Roof, The (Hussard sur le toit, Le) (1995)': 5.0,\n",
       " 'Hot Shots! Part Deux (1993)': 4.0,\n",
       " 'Hudsucker Proxy, The (1994)': 5.0,\n",
       " 'Hunt for Red October, The (1990)': 4.0,\n",
       " 'I.Q. (1994)': 3.0,\n",
       " 'In the Company of Men (1997)': 3.0,\n",
       " 'Independence Day (ID4) (1996)': 4.0,\n",
       " 'Indiana Jones and the Last Crusade (1989)': 4.0,\n",
       " 'Jaws (1975)': 4.0,\n",
       " 'Jean de Florette (1986)': 5.0,\n",
       " 'Jerry Maguire (1996)': 2.0,\n",
       " 'Jude (1996)': 2.0,\n",
       " 'Jungle2Jungle (1997)': 1.0,\n",
       " 'Jurassic Park (1993)': 5.0,\n",
       " 'Kansas City (1996)': 3.0,\n",
       " 'Kids in the Hall: Brain Candy (1996)': 5.0,\n",
       " 'Kolya (1996)': 5.0,\n",
       " 'Kull the Conqueror (1997)': 1.0,\n",
       " 'Last of the Mohicans, The (1992)': 4.0,\n",
       " 'Lawnmower Man, The (1992)': 2.0,\n",
       " 'Legends of the Fall (1994)': 4.0,\n",
       " 'Lion King, The (1994)': 3.0,\n",
       " 'Lone Star (1996)': 5.0,\n",
       " 'Long Kiss Goodnight, The (1996)': 3.0,\n",
       " 'Lost World: Jurassic Park, The (1997)': 2.0,\n",
       " 'Love Bug, The (1969)': 3.0,\n",
       " 'M*A*S*H (1970)': 3.0,\n",
       " 'Mad Love (1995)': 2.0,\n",
       " 'Madness of King George, The (1994)': 4.0,\n",
       " 'Manon of the Spring (Manon des sources) (1986)': 5.0,\n",
       " 'Mars Attacks! (1996)': 5.0,\n",
       " 'Mask, The (1994)': 4.0,\n",
       " 'Maverick (1994)': 3.0,\n",
       " 'Maya Lin: A Strong Clear Vision (1994)': 5.0,\n",
       " 'Men in Black (1997)': 4.0,\n",
       " 'Mighty Aphrodite (1995)': 5.0,\n",
       " 'Mimic (1997)': 2.0,\n",
       " 'Mirror Has Two Faces, The (1996)': 3.0,\n",
       " 'Moll Flanders (1996)': 4.0,\n",
       " 'Monty Python and the Holy Grail (1974)': 5.0,\n",
       " \"Monty Python's Life of Brian (1979)\": 5.0,\n",
       " \"Mr. Holland's Opus (1995)\": 5.0,\n",
       " 'Mr. Smith Goes to Washington (1939)': 3.0,\n",
       " 'Much Ado About Nothing (1993)': 3.0,\n",
       " 'Muppet Treasure Island (1996)': 1.0,\n",
       " \"My Best Friend's Wedding (1997)\": 2.0,\n",
       " 'Mystery Science Theater 3000: The Movie (1996)': 5.0,\n",
       " 'Nadja (1994)': 2.0,\n",
       " 'Natural Born Killers (1994)': 3.0,\n",
       " 'Net, The (1995)': 3.0,\n",
       " 'Nightmare Before Christmas, The (1993)': 5.0,\n",
       " 'Nightmare on Elm Street, A (1984)': 1.0,\n",
       " 'Nikita (La Femme Nikita) (1990)': 5.0,\n",
       " 'On Golden Pond (1981)': 4.0,\n",
       " 'Operation Dumbo Drop (1995)': 1.0,\n",
       " 'Outbreak (1995)': 3.0,\n",
       " 'Patton (1970)': 3.0,\n",
       " 'Phenomenon (1996)': 3.0,\n",
       " 'Pillow Book, The (1995)': 5.0,\n",
       " 'Pink Floyd - The Wall (1982)': 4.0,\n",
       " 'Platoon (1986)': 4.0,\n",
       " 'Postino, Il (1994)': 5.0,\n",
       " 'Priest (1994)': 5.0,\n",
       " 'Princess Bride, The (1987)': 5.0,\n",
       " 'Private Benjamin (1980)': 2.0,\n",
       " 'Professional, The (1994)': 5.0,\n",
       " 'Psycho (1960)': 4.0,\n",
       " 'Pulp Fiction (1994)': 4.0,\n",
       " 'Quiz Show (1994)': 4.0,\n",
       " 'Raging Bull (1980)': 4.0,\n",
       " 'Raiders of the Lost Ark (1981)': 5.0,\n",
       " 'Raising Arizona (1987)': 4.0,\n",
       " 'Ref, The (1994)': 3.0,\n",
       " 'Remains of the Day, The (1993)': 5.0,\n",
       " 'Reservoir Dogs (1992)': 4.0,\n",
       " 'Return of the Jedi (1983)': 5.0,\n",
       " 'Return of the Pink Panther, The (1974)': 4.0,\n",
       " 'Richard III (1995)': 3.0,\n",
       " 'Ridicule (1996)': 5.0,\n",
       " 'Right Stuff, The (1983)': 4.0,\n",
       " \"Robert A. Heinlein's The Puppet Masters (1994)\": 4.0,\n",
       " 'Rock, The (1996)': 3.0,\n",
       " 'Room with a View, A (1986)': 2.0,\n",
       " 'Rumble in the Bronx (1995)': 3.0,\n",
       " 'Santa Clause, The (1994)': 2.0,\n",
       " 'Searching for Bobby Fischer (1993)': 5.0,\n",
       " 'Seven (Se7en) (1995)': 2.0,\n",
       " 'Sgt. Bilko (1996)': 2.0,\n",
       " 'Shall We Dance? (1996)': 4.0,\n",
       " 'Shanghai Triad (Yao a yao yao dao waipo qiao) (1995)': 5.0,\n",
       " 'Shawshank Redemption, The (1994)': 5.0,\n",
       " 'Shining, The (1980)': 3.0,\n",
       " 'Silence of the Lambs, The (1991)': 4.0,\n",
       " 'Sleeper (1973)': 5.0,\n",
       " 'Sleepless in Seattle (1993)': 4.0,\n",
       " 'Sling Blade (1996)': 5.0,\n",
       " \"Smilla's Sense of Snow (1997)\": 2.0,\n",
       " 'Sneakers (1992)': 4.0,\n",
       " 'Snow White and the Seven Dwarfs (1937)': 3.0,\n",
       " 'So I Married an Axe Murderer (1993)': 4.0,\n",
       " 'Sound of Music, The (1965)': 1.0,\n",
       " 'Spitfire Grill, The (1996)': 2.0,\n",
       " 'Star Trek III: The Search for Spock (1984)': 4.0,\n",
       " 'Star Trek IV: The Voyage Home (1986)': 4.0,\n",
       " 'Star Trek VI: The Undiscovered Country (1991)': 4.0,\n",
       " 'Star Trek: First Contact (1996)': 4.0,\n",
       " 'Star Trek: The Wrath of Khan (1982)': 5.0,\n",
       " 'Star Wars (1977)': 5.0,\n",
       " 'Stargate (1994)': 3.0,\n",
       " 'Starship Troopers (1997)': 2.0,\n",
       " 'Steel (1997)': 1.0,\n",
       " 'Sting, The (1973)': 4.0,\n",
       " 'Strange Days (1995)': 4.0,\n",
       " 'Striptease (1996)': 1.0,\n",
       " 'Supercop (1992)': 4.0,\n",
       " 'Swingers (1996)': 5.0,\n",
       " 'Taxi Driver (1976)': 4.0,\n",
       " 'Terminator 2: Judgment Day (1991)': 5.0,\n",
       " 'Terminator, The (1984)': 5.0,\n",
       " 'Theodore Rex (1995)': 1.0,\n",
       " 'This Is Spinal Tap (1984)': 4.0,\n",
       " 'Three Colors: Blue (1993)': 5.0,\n",
       " 'Three Colors: Red (1994)': 5.0,\n",
       " 'Three Colors: White (1994)': 4.0,\n",
       " 'To Wong Foo, Thanks for Everything! Julie Newmar (1995)': 3.0,\n",
       " 'Top Gun (1986)': 4.0,\n",
       " 'Toy Story (1995)': 5.0,\n",
       " 'True Romance (1993)': 3.0,\n",
       " 'Truth About Cats & Dogs, The (1996)': 5.0,\n",
       " 'Turbo: A Power Rangers Movie (1997)': 1.0,\n",
       " 'Twelve Monkeys (1995)': 4.0,\n",
       " 'Twister (1996)': 3.0,\n",
       " 'Unbearable Lightness of Being, The (1988)': 4.0,\n",
       " 'Under Siege (1992)': 2.0,\n",
       " 'Unforgiven (1992)': 4.0,\n",
       " 'Unhook the Stars (1996)': 4.0,\n",
       " 'Usual Suspects, The (1995)': 5.0,\n",
       " 'Wallace & Gromit: The Best of Aardman Animation (1996)': 5.0,\n",
       " \"Weekend at Bernie's (1989)\": 3.0,\n",
       " 'Welcome to the Dollhouse (1995)': 5.0,\n",
       " \"What's Eating Gilbert Grape (1993)\": 4.0,\n",
       " 'When Harry Met Sally... (1989)': 5.0,\n",
       " 'When the Cats Away (Chacun cherche son chat) (1996)': 4.0,\n",
       " 'While You Were Sleeping (1995)': 4.0,\n",
       " 'White Balloon, The (1995)': 4.0,\n",
       " 'Willy Wonka and the Chocolate Factory (1971)': 4.0,\n",
       " 'Wizard of Oz, The (1939)': 4.0,\n",
       " 'Wrong Trousers, The (1993)': 5.0,\n",
       " 'Young Frankenstein (1974)': 5.0,\n",
       " 'Young Guns (1988)': 3.0,\n",
       " 'unknown': 4.0}"
      ]
     },
     "execution_count": 73,
     "metadata": {},
     "output_type": "execute_result"
    }
   ],
   "source": [
    "prefs['1'] # ratings of user 1"
   ]
  },
  {
   "cell_type": "code",
   "execution_count": 74,
   "metadata": {
    "collapsed": false
   },
   "outputs": [
    {
     "data": {
      "text/plain": [
       "[(5.0, 'They Made Me a Criminal (1939)'),\n",
       " (5.0, 'Star Kid (1997)'),\n",
       " (5.0, \"Someone Else's America (1995)\"),\n",
       " (5.0, 'Saint of Fort Washington, The (1993)'),\n",
       " (5.0, 'Prefontaine (1997)'),\n",
       " (5.0, 'Marlene Dietrich: Shadow and Light (1996) '),\n",
       " (5.0, 'Little City (1998)'),\n",
       " (5.0, 'Great Day in Harlem, A (1994)'),\n",
       " (5.0, 'Aiqing wansui (1994)'),\n",
       " (4.999999999999999, 'Santa with Muscles (1996)')]"
      ]
     },
     "execution_count": 74,
     "metadata": {},
     "output_type": "execute_result"
    }
   ],
   "source": [
    "getRecommendations(prefs,'1')[0:10] # get top 10 movies for user 1"
   ]
  },
  {
   "cell_type": "markdown",
   "metadata": {},
   "source": [
    "## Item-Based Collaborative Filtering"
   ]
  },
  {
   "cell_type": "code",
   "execution_count": 60,
   "metadata": {
    "collapsed": false
   },
   "outputs": [],
   "source": [
    "def calculateSimilarItems(prefs,n=10):\n",
    "    # Create a dictionary of items showing which other items they are most similar to.\n",
    "    result={}\n",
    "    # Invert the preference matrix to be item-centric\n",
    "    itemPrefs=transformPrefs(prefs)\n",
    "    c=0\n",
    "    for item in itemPrefs:\n",
    "        # Status updates for large datasets\n",
    "        c+=1\n",
    "        if c%100==0: print (c,len(itemPrefs))\n",
    "        # Find the most similar items to this one\n",
    "        scores=topMatches(itemPrefs,item,n=n,similarity=sim_distance)\n",
    "        result[item]=scores\n",
    "    return result"
   ]
  },
  {
   "cell_type": "code",
   "execution_count": 63,
   "metadata": {
    "collapsed": false
   },
   "outputs": [
    {
     "name": "stdout",
     "output_type": "stream",
     "text": [
      "100 1664\n",
      "200 1664\n",
      "300 1664\n",
      "400 1664\n",
      "500 1664\n",
      "600 1664\n",
      "700 1664\n",
      "800 1664\n",
      "900 1664\n",
      "1000 1664\n",
      "1100 1664\n",
      "1200 1664\n",
      "1300 1664\n",
      "1400 1664\n",
      "1500 1664\n",
      "1600 1664\n"
     ]
    }
   ],
   "source": [
    "itemsim = calculateSimilarItems(prefs,n=50)"
   ]
  },
  {
   "cell_type": "code",
   "execution_count": 64,
   "metadata": {
    "collapsed": true
   },
   "outputs": [],
   "source": [
    "def getRecommendedItems(prefs,itemMatch,user):\n",
    "    userRatings=prefs[user]\n",
    "    scores={}\n",
    "    totalSim={}\n",
    "    # Loop over items rated by this user\n",
    "    for (item,rating) in userRatings.items( ):\n",
    "        # Loop over items similar to this one\n",
    "        for (similarity,item2) in itemMatch[item]:\n",
    "            # Ignore if this user has already rated this item\n",
    "            if item2 in userRatings: continue\n",
    "            # Weighted sum of rating times similarity\n",
    "            scores.setdefault(item2,0)\n",
    "            scores[item2]+=similarity*rating\n",
    "            # Sum of all the similarities\n",
    "            totalSim.setdefault(item2,0)\n",
    "            totalSim[item2]+=similarity\n",
    "    # Divide each total score by total weighting to get an average\n",
    "    rankings=[(score/totalSim[item],item) for item,score in scores.items( )]\n",
    "    # Return the rankings from highest to lowest\n",
    "    rankings.sort( )\n",
    "    rankings.reverse( )\n",
    "    return rankings"
   ]
  },
  {
   "cell_type": "code",
   "execution_count": 75,
   "metadata": {
    "collapsed": false
   },
   "outputs": [
    {
     "data": {
      "text/plain": [
       "[(5.0, 'Winnie the Pooh and the Blustery Day (1968)'),\n",
       " (5.0, \"What's Love Got to Do with It (1993)\"),\n",
       " (5.0, 'Up Close and Personal (1996)'),\n",
       " (5.0, 'Stand by Me (1986)'),\n",
       " (5.0, 'Speed (1994)'),\n",
       " (5.0, \"Sophie's Choice (1982)\"),\n",
       " (5.0, 'Something to Talk About (1995)'),\n",
       " (5.0, 'Some Like It Hot (1959)'),\n",
       " (5.0, 'Some Folks Call It a Sling Blade (1993)'),\n",
       " (5.0, 'Shine (1996)')]"
      ]
     },
     "execution_count": 75,
     "metadata": {},
     "output_type": "execute_result"
    }
   ],
   "source": [
    "getRecommendedItems(prefs,itemsim,'1')[0:10] #recommendation for user 1"
   ]
  },
  {
   "cell_type": "code",
   "execution_count": null,
   "metadata": {
    "collapsed": true
   },
   "outputs": [],
   "source": []
  }
 ],
 "metadata": {
  "kernelspec": {
   "display_name": "Python 3",
   "language": "python",
   "name": "python3"
  },
  "language_info": {
   "codemirror_mode": {
    "name": "ipython",
    "version": 3
   },
   "file_extension": ".py",
   "mimetype": "text/x-python",
   "name": "python",
   "nbconvert_exporter": "python",
   "pygments_lexer": "ipython3",
   "version": "3.5.0"
  }
 },
 "nbformat": 4,
 "nbformat_minor": 0
}
